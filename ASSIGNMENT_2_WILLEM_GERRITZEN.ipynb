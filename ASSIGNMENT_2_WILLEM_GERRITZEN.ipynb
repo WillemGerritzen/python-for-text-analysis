{
 "cells": [
  {
   "cell_type": "markdown",
   "source": [
    "# Assignment 2: Containers\n",
    "\n",
    "**Deadline: Tuesday, September 21, 2021 before 20:00**\n",
    "\n",
    "- Please name your files:\n",
    "    * ASSIGNMENT_2_FIRSTNAME_LASTNAME.ipynb\n",
    "    * assignment2_utils.py\n",
    "- Please store the two files in a folder called ASSIGNMENT_2_FIRSTNAME_LASTNAME\n",
    "- Please zip your folder and please follow the following naming convention for the zip file: ASSIGNMENT_2_FIRSTNAME_LASTNAME.zip\n",
    "- Please submit your assignment on Canvas: Assignment 2\n",
    "- If you have **questions** about this topic, please contact us **(cltl.python.course@gmail.com)**. Questions and answers will be collected on Piazza, so please check if your question has already been answered first.\n",
    "\n",
    "In this block, we covered the following chapters:\n",
    "- Chapter 05 - Core concepts of containers\n",
    "- Chapter 06 - Lists\n",
    "- Chapter 07 - Sets\n",
    "- Chapter 08 - Comparison of lists and sets\n",
    "- Chapter 09 - Looping over containers.\n",
    "- Chapter 10 - Dictionaries\n",
    "- Chapter 11 - Functions and scope\n",
    "\n",
    "In this assignment, you will be asked to show what you have learned from the topics above!\n",
    "\n",
    "**Finding solutions online**\n",
    "\n",
    "Very often, you can find good solutions online. We encourage you to use online resources when you get stuck. However, please always try to understand the code you find and indicate that it is not your own. Use the following format to mark code written by someone else:\n",
    "\n",
    "###Taken from [link] [date]\n",
    "\n",
    "[code]\n",
    "\n",
    "\\###\n",
    "\n",
    "Please use a similar format to indicate that you have worked with a classmate (e.g. mention the name instead of the link).\n",
    "\n",
    "*Please stick to this strategy for all course assignments.*"
   ],
   "metadata": {
    "collapsed": false
   }
  },
  {
   "cell_type": "markdown",
   "source": [
    "## Exercise 1: Beersong\n",
    "*99 Bottles of Beer* is a traditional song in the United States and Canada. Write a python program that generates the lyrics to the song."
   ],
   "metadata": {
    "collapsed": false
   }
  },
  {
   "cell_type": "markdown",
   "source": [
    "The song's simple lyrics are as follows:\n",
    "\n",
    "    99 bottles of beer on the wall,\n",
    "    99 bottles of beer.\n",
    "    Take one down, pass it around,\n",
    "    98 bottles of beer on the wall.\n",
    "\n",
    "The same verse is repeated, each time with one fewer bottle. The song\n",
    "is completed when the singer or singers reach zero. After the last bottle\n",
    "is taken down and passed around, there is a special verse:\n",
    "\n",
    "    No more bottles of beer on the wall,\n",
    "    no more bottles of beer.\n",
    "    Go to the store and buy some more,\n",
    "    99 bottles of beer on the wall."
   ],
   "metadata": {
    "collapsed": false
   }
  },
  {
   "cell_type": "markdown",
   "source": [
    "Notes:\n",
    "\n",
    "* Leave a blank line between verses.\n",
    "* Make sure that you print the singular form of \"bottles\" when the counter is at one."
   ],
   "metadata": {
    "collapsed": false
   }
  },
  {
   "cell_type": "markdown",
   "source": [
    "Hint:\n",
    "\n",
    "* While debugging the program, start from a small number, and\n",
    "change it to 100 when you are done (as shown below).\n",
    "* Use variables to prevent code repetition\n",
    "\n",
    "You can use the following code snippet as a start:"
   ],
   "metadata": {
    "collapsed": false
   }
  },
  {
   "cell_type": "code",
   "execution_count": null,
   "outputs": [],
   "source": [
    "for count in range(100, 0, -1):\n",
    "    print(count, f'{\"bottles\" if count > 1 else \"bottle\"} of beer on the wall,')\n",
    "    print('')\n",
    "    print(count, f'{\"bottles\" if count > 1 else \"bottle\"} of beer.\\n\\nTake one down, pass it around,')\n",
    "    print('')\n",
    "    print(count - 1, f'{\"bottles\" if count - 1 > 1 else \"bottle\"} of beer on the wall\\n\\n')\n",
    "\n",
    "print('No more bottles of beer on the wall,\\n\\nNo more bottles of beer.\\n\\nGo to the store and buy some more,\\n\\n99 bottles of beer on the wall.')"
   ],
   "metadata": {
    "collapsed": false,
    "pycharm": {
     "name": "#%%\n"
    }
   }
  },
  {
   "cell_type": "markdown",
   "source": [
    "## Exercise 2: list methods"
   ],
   "metadata": {
    "collapsed": false
   }
  },
  {
   "cell_type": "markdown",
   "source": [
    "In this exercise, we will focus on the following list methods:\n",
    "\n",
    "a.) append\n",
    "\n",
    "b.) count\n",
    "\n",
    "c.) index\n",
    "\n",
    "d.) insert\n",
    "\n",
    "e.) pop\n",
    "\n",
    "For each of the aforementioned list methods:\n",
    "\n",
    "* explain the positional parameters\n",
    "* explain the keyword parameters\n",
    "* you can exclude *self* from your explanation\n",
    "* explain what the goal of the method is and what data type it returns, e.g., string, list, set, etc.\n",
    "* give a working example. Provide also an example by providing a value for keyword parameters (assuming the method has one or more keyword parameters)."
   ],
   "metadata": {
    "collapsed": false
   }
  },
  {
   "cell_type": "code",
   "execution_count": null,
   "outputs": [],
   "source": [
    "lst = []\n",
    "\n",
    "# a.) append\n",
    "\n",
    "# Positional parameter: The value that is to be added at the end of the list\n",
    "# Keyword parameters: None\n",
    "# Goal: Append something to the end of a list. Returns a list\n",
    "\n",
    "print(f'Append\\n\\n{lst}')\n",
    "lst.append(1)\n",
    "print(lst)\n",
    "lst.append(0)\n",
    "print(lst)\n",
    "lst.append(2)\n",
    "print(lst)\n",
    "lst.append(0)\n",
    "print(lst)\n",
    "lst.append(2)\n",
    "print(lst)\n",
    "lst.append(0)\n",
    "print(lst)\n",
    "\n",
    "# b.) count\n",
    "\n",
    "# Positional parameter: The value that is to be counted in the list\n",
    "# Keyword parameters: None\n",
    "# Goal: Count a given value in the list. Returns an integer\n",
    "\n",
    "print(f'\\nCount\\n\\n{lst}')\n",
    "print(lst.count(2))\n",
    "print(lst.count(0))\n",
    "\n",
    "# c.) index\n",
    "\n",
    "# Positional parameters: The value whose index is to be returned. Where in the list the search should begin. Where in the list the search should end\n",
    "# Keyword parameter: None\n",
    "# Goal: Find where in the list the first instance of the argument is found. Returns an integer\n",
    "\n",
    "print(f'\\nIndex\\n\\n{lst}')\n",
    "print(f'Find the first 0 anywhere in the list at position: {lst.index(0)}')\n",
    "print(f'Find the first 0 after index 2 in the list at position: {lst.index(0, 4)}')\n",
    "print(f'Find the first 0 between index 2 and 4 in the list at position: {lst.index(0, 2, 4)}')\n",
    "\n",
    "# d.) insert\n",
    "\n",
    "# Positional parameters: Where to insert the given value. The value to insert\n",
    "# Keyword parameter: None\n",
    "# Goal: Insert a given value at a specific index in a list. Returns a list\n",
    "\n",
    "print(f'\\nInsert\\n\\n{lst}')\n",
    "lst.insert(4, 0)\n",
    "print(lst)\n",
    "\n",
    "# e.) pop\n",
    "\n",
    "# Positional parameter: The index of the value to remove from the list\n",
    "# Keyword parameter: None\n",
    "# Goal: Remove and return an item at the given index. Returns the deleted item\n",
    "\n",
    "print(f'\\nPop\\n\\n{lst}')\n",
    "print(lst.pop(4))\n",
    "print(lst)"
   ],
   "metadata": {
    "collapsed": false,
    "pycharm": {
     "name": "#%%\n"
    }
   }
  },
  {
   "cell_type": "markdown",
   "source": [
    "## Exercise 3: set methods"
   ],
   "metadata": {
    "collapsed": false
   }
  },
  {
   "cell_type": "markdown",
   "source": [
    "In this exercise, we will focus on the following set methods:\n",
    "* update\n",
    "* pop\n",
    "* remove\n",
    "* clear\n",
    "\n",
    "For each of the aforementioned set methods:\n",
    "\n",
    "* explain the positional parameters\n",
    "* explain the keyword parameters\n",
    "* you can exclude *self* from your explanation\n",
    "* explain what the goal of the method is and what data type it returns, e.g., string, list, set, etc.\n",
    "* give a working example. Provide also an example by providing a value for keyword parameters (assuming the method has one or more keyword parameters)."
   ],
   "metadata": {
    "collapsed": false
   }
  },
  {
   "cell_type": "markdown",
   "source": [
    "### Please fill in your answers here:"
   ],
   "metadata": {
    "collapsed": false
   }
  },
  {
   "cell_type": "code",
   "execution_count": null,
   "outputs": [],
   "source": [
    "# Update:\n",
    "\n",
    "# Positional parameter: The iterable to update the set with\n",
    "# Keyword parameters: None\n",
    "# Goal: Update a set by merging it with a given iterable. Returns a set\n",
    "\n",
    "st = {0, 1, 2, 4, 5}\n",
    "lst = [3]\n",
    "\n",
    "print(f'Update\\n\\n{st}')\n",
    "st.update(lst)\n",
    "print(st)\n",
    "\n",
    "# Pop:\n",
    "\n",
    "# Positional parameters: None\n",
    "# Keyword parameters: None\n",
    "# Goal: Removes a random item in the set. Returns the removed item\n",
    "\n",
    "print(f'\\nPop\\n\\n{st}')\n",
    "print(st.pop())\n",
    "print(st)\n",
    "\n",
    "# Remove:\n",
    "# Positional parameter: The element to be removed\n",
    "# Keyword parameter: None\n",
    "# Goal: Remove a specific element from a set. Returns nothing\n",
    "\n",
    "print(f'\\nRemove\\n\\n{st}')\n",
    "st.remove(1)\n",
    "print(st)\n",
    "\n",
    "# Clear:\n",
    "# Positional parameters: None\n",
    "# Keyword parameters: None\n",
    "# Goal: Removes all elements from the set. Returns nothing\n",
    "\n",
    "print(f'\\nClear\\n\\n{st}')\n",
    "st.clear()\n",
    "print(st)"
   ],
   "metadata": {
    "collapsed": false,
    "pycharm": {
     "name": "#%%\n"
    }
   }
  },
  {
   "cell_type": "markdown",
   "source": [
    "## Exercise 4: Analyzing vocabulary using sets\n",
    "Please consider the following two texts:"
   ],
   "metadata": {
    "collapsed": false
   }
  },
  {
   "cell_type": "markdown",
   "source": [
    "These stories were copied from [here](http://www.english-for-students.com/)."
   ],
   "metadata": {
    "collapsed": false
   }
  },
  {
   "cell_type": "code",
   "execution_count": null,
   "outputs": [],
   "source": [
    "a_story = \"\"\"In a far away kingdom, there was a river. This river was home to many golden swans. The swans spent most of their time on the banks of the river. Every six months, the swans would leave a golden feather as a fee for using the lake. The soldiers of the kingdom would collect the feathers and deposit them in the royal treasury.\n",
    "One day, a homeless bird saw the river. \"The water in this river seems so cool and soothing. I will make my home here,\" thought the bird.\n",
    "As soon as the bird settled down near the river, the golden swans noticed her. They came shouting. \"This river belongs to us. We pay a golden feather to the King to use this river. You can not live here.\"\n",
    "\"I am homeless, brothers. I too will pay the rent. Please give me shelter,\" the bird pleaded. \"How will you pay the rent? You do not have golden feathers,\" said the swans laughing. They further added, \"Stop dreaming and leave once.\" The humble bird pleaded many times. But the arrogant swans drove the bird away.\n",
    "\"I will teach them a lesson!\" decided the humiliated bird.\n",
    "She went to the King and said, \"O King! The swans in your river are impolite and unkind. I begged for shelter but they said that they had purchased the river with golden feathers.\"\n",
    "The King was angry with the arrogant swans for having insulted the homeless bird. He ordered his soldiers to bring the arrogant swans to his court. In no time, all the golden swans were brought to the King’s court.\n",
    "\"Do you think the royal treasury depends upon your golden feathers? You can not decide who lives by the river. Leave the river at once or you all will be beheaded!\" shouted the King.\n",
    "The swans shivered with fear on hearing the King. They flew away never to return. The bird built her home near the river and lived there happily forever. The bird gave shelter to all other birds in the river. \"\"\"\n",
    "print(a_story)"
   ],
   "metadata": {
    "collapsed": false,
    "pycharm": {
     "name": "#%%\n"
    }
   }
  },
  {
   "cell_type": "code",
   "execution_count": null,
   "outputs": [],
   "source": [
    "another_story = \"\"\"Long time ago, there lived a King. He was lazy and liked all the comforts of life. He never carried out his duties as a King. \"Our King does not take care of our needs. He also ignores the affairs of his kingdom.\" The people complained.\n",
    "One day, the King went into the forest to hunt. After having wandered for quite sometime, he became thirsty. To his relief, he spotted a lake. As he was drinking water, he suddenly saw a golden swan come out of the lake and perch on a stone. \"Oh! A golden swan. I must capture it,\" thought the King.\n",
    "But as soon as he held his bow up, the swan disappeared. And the King heard a voice, \"I am the Golden Swan. If you want to capture me, you must come to heaven.\"\n",
    "Surprised, the King said, \"Please show me the way to heaven.\" Do good deeds, serve your people and the messenger from heaven would come to fetch you to heaven,\" replied the voice.\n",
    "The selfish King, eager to capture the Swan, tried doing some good deeds in his Kingdom. \"Now, I suppose a messenger will come to take me to heaven,\" he thought. But, no messenger came.\n",
    "The King then disguised himself and went out into the street. There he tried helping an old man. But the old man became angry and said, \"You need not try to help. I am in this miserable state because of out selfish King. He has done nothing for his people.\"\n",
    "Suddenly, the King heard the golden swan’s voice, \"Do good deeds and you will come to heaven.\" It dawned on the King that by doing selfish acts, he will not go to heaven.\n",
    "He realized that his people needed him and carrying out his duties was the only way to heaven. After that day he became a responsible King.\n",
    "\"\"\""
   ],
   "metadata": {
    "collapsed": false,
    "pycharm": {
     "name": "#%%\n"
    }
   }
  },
  {
   "cell_type": "markdown",
   "source": [
    "### Exercise 4a: preprocessing text\n",
    "Before analyzing the two texts, we are first going to preprocess them.\n",
    "Please use a particular string method multiple times to replace the following characters by empty strings in both **a_story** and **another_story**:\n",
    "* newlines: '\\n'\n",
    "* commas: ','\n",
    "* dots: '.'\n",
    "* quotes: '\"'\n",
    "\n",
    "\n",
    "Please assign the processed texts to the variables **cleaned_story** and **cleaned_another_story**."
   ],
   "metadata": {
    "collapsed": false
   }
  },
  {
   "cell_type": "code",
   "execution_count": null,
   "outputs": [],
   "source": [
    "cleaned_story = a_story.replace('\\n', '')\n",
    "cleaned_another_story = another_story.replace('\\n', '')\n",
    "\n",
    "char = [',', '.', '\"']\n",
    "\n",
    "for c in char:\n",
    " cleaned_story = cleaned_story.replace(c, '')\n",
    " cleaned_another_story = cleaned_another_story.replace(c, '')\n",
    "\n",
    "print(cleaned_story, cleaned_another_story)"
   ],
   "metadata": {
    "collapsed": false,
    "pycharm": {
     "name": "#%%\n"
    }
   }
  },
  {
   "cell_type": "markdown",
   "source": [
    "\n",
    "\n",
    "#### Exercise 4b: from text to a list\n",
    "For each text (**cleaned_story** and **cleaned_another_story**), please use a string method to convert **cleaned_story** and **cleaned_another_story** into lists by splitting using spaces. Please call the lists **list_cleaned_story** and **list_cleaned_another_story**."
   ],
   "metadata": {
    "collapsed": false
   }
  },
  {
   "cell_type": "code",
   "execution_count": null,
   "outputs": [],
   "source": [
    "list_cleaned_story = cleaned_story.split(' ')\n",
    "list_cleaned_another_story = cleaned_another_story.split(' ')\n",
    "\n",
    "print(list_cleaned_story, list_cleaned_another_story)"
   ],
   "metadata": {
    "collapsed": false,
    "pycharm": {
     "name": "#%%\n"
    }
   }
  },
  {
   "cell_type": "markdown",
   "source": [
    "#### Exercise 4c: from a list to a vocabulary (a set)\n",
    "Please create a set for the words in each text by adding each word to a set. In the end, you should have two variables **vocab_a_story** and **vocab_another_story**, each containing the unique words in each story. Please use the output of Exercise 4b as the input for this exercise."
   ],
   "metadata": {
    "collapsed": false
   }
  },
  {
   "cell_type": "code",
   "execution_count": null,
   "outputs": [],
   "source": [
    "vocab_a_story = set()\n",
    "vocab_another_story = set()\n",
    "\n",
    "vocab_a_story.update(list_cleaned_story)\n",
    "vocab_another_story.update(list_cleaned_another_story)\n",
    "\n",
    "print(vocab_a_story, vocab_another_story)"
   ],
   "metadata": {
    "collapsed": false,
    "pycharm": {
     "name": "#%%\n"
    }
   }
  },
  {
   "cell_type": "markdown",
   "source": [
    "### Exercise 4d: analyzing vocabularies\n",
    "Please analyze the vocabularies by using set methods to determine:\n",
    "* which words occur in both texts\n",
    "* which words only occur in **a_story**\n",
    "* which words only occur in **another_story**"
   ],
   "metadata": {
    "collapsed": false
   }
  },
  {
   "cell_type": "code",
   "execution_count": null,
   "outputs": [],
   "source": [
    "both = set()\n",
    "both.update(vocab_a_story)\n",
    "both.update(vocab_another_story)\n",
    "\n",
    "# Creat a list of the words that are in vocab_a_story but not in vocab_another_story and another list with the opposite\n",
    "\n",
    "a_story_only_list = [word for word in vocab_a_story if word not in vocab_another_story]\n",
    "another_story_only_list = [word for word in vocab_another_story if word not in vocab_a_story]\n",
    "\n",
    "# Iterate over the first list and remove every instance from the set with words found in both sets\n",
    "\n",
    "for word in a_story_only_list:\n",
    "    both.remove(word)\n",
    "\n",
    "# Convert each list to a set\n",
    "\n",
    "a_story_only = set()\n",
    "another_story_only = set()\n",
    "\n",
    "a_story_only.update(a_story_only_list)\n",
    "another_story_only.update(another_story_only_list)\n",
    "\n",
    "print(a_story_only)\n",
    "print(another_story_only)\n",
    "print(both)"
   ],
   "metadata": {
    "collapsed": false,
    "pycharm": {
     "name": "#%%\n"
    }
   }
  },
  {
   "cell_type": "markdown",
   "source": [
    "## Exercise 5: counting\n",
    "Below you find a list called **words**, which is a list of strings.\n",
    "\n",
    "a.) Please create a dictionary in which the **key** is the word, and the **value** is the frequency of the word.\n",
    "\n",
    "\n",
    "Exclude all words which meet at least one of the following requirements:\n",
    "\n",
    " * end with the letter e\n",
    " * start with the letter t\n",
    " * start with the letter c and end with the letter w (both conditions must be met)\n",
    " * have six or more letters\n",
    "\n",
    "You are not allowed to use the **collections** module to do this."
   ],
   "metadata": {
    "collapsed": false
   }
  },
  {
   "cell_type": "code",
   "execution_count": null,
   "outputs": [],
   "source": [
    "words = ['there',\n",
    " 'was',\n",
    " 'a',\n",
    " 'village',\n",
    " 'near',\n",
    " 'a',\n",
    " 'jungle',\n",
    " 'the',\n",
    " 'village',\n",
    " 'cows',\n",
    " 'used',\n",
    " 'to',\n",
    " 'go',\n",
    " 'up',\n",
    " 'to',\n",
    " 'the',\n",
    " 'jungle',\n",
    " 'in',\n",
    " 'search',\n",
    " 'of',\n",
    " 'food.',\n",
    " 'in',\n",
    " 'the',\n",
    " 'forest',\n",
    " 'there',\n",
    " 'lived',\n",
    " 'a',\n",
    " 'wicked',\n",
    " 'lion',\n",
    " 'he',\n",
    " 'used',\n",
    " 'to',\n",
    " 'kill',\n",
    " 'a',\n",
    " 'cow',\n",
    " 'now',\n",
    " 'and',\n",
    " 'then',\n",
    " 'and',\n",
    " 'eat',\n",
    " 'her',\n",
    " 'this',\n",
    " 'was',\n",
    " 'happening',\n",
    " 'for',\n",
    " 'quite',\n",
    " 'sometime',\n",
    " 'the',\n",
    " 'cows',\n",
    " 'were',\n",
    " 'frightened',\n",
    " 'one',\n",
    " 'day',\n",
    " 'all',\n",
    " 'the',\n",
    " 'cows',\n",
    " 'held',\n",
    " 'a',\n",
    " 'meeting',\n",
    " 'an',\n",
    " 'old',\n",
    " 'cow',\n",
    " 'said',\n",
    " 'listen',\n",
    " 'everybody',\n",
    " 'the',\n",
    " 'lion',\n",
    " 'eats',\n",
    " 'one',\n",
    " 'of',\n",
    " 'us',\n",
    " 'only',\n",
    " 'because',\n",
    " 'we',\n",
    " 'go',\n",
    " 'into',\n",
    " 'the',\n",
    " 'jungle',\n",
    " 'separately',\n",
    " 'from',\n",
    " 'now',\n",
    " 'on',\n",
    " 'we',\n",
    " 'will',\n",
    " 'all',\n",
    " 'be',\n",
    " 'together',\n",
    " 'from',\n",
    " 'then',\n",
    " 'on',\n",
    " 'all',\n",
    " 'the',\n",
    " 'cows',\n",
    " 'went',\n",
    " 'into',\n",
    " 'the',\n",
    " 'jungle',\n",
    " 'in',\n",
    " 'a',\n",
    " 'herd',\n",
    " 'when',\n",
    " 'they',\n",
    " 'heard',\n",
    " 'or',\n",
    " 'saw',\n",
    " 'the',\n",
    " 'lion',\n",
    " 'all',\n",
    " 'of',\n",
    " 'them',\n",
    " 'unitedly',\n",
    " 'moo',\n",
    " 'and',\n",
    " 'chased',\n",
    " 'him',\n",
    " 'away',\n",
    " 'moral',\n",
    " 'divided',\n",
    " 'we',\n",
    " 'fall',\n",
    " 'united',\n",
    " 'we',\n",
    " 'stand']\n",
    "\n",
    "words = [word for word in words if word[-1] != 'e' and word[0] != 't' and not (word[0] == 'c' and word[-1] == 'w') and len(word) < 6]\n",
    "dct = {}\n",
    "\n",
    "for word in words:\n",
    " dct[word] = words.count(word)\n",
    "\n",
    "print(dct)"
   ],
   "metadata": {
    "collapsed": false,
    "pycharm": {
     "name": "#%%\n"
    }
   }
  },
  {
   "cell_type": "markdown",
   "source": [
    "b.) Analyze your dicitionary by printing:\n",
    "* how many keys it has\n",
    "* what the highest word frequency is\n",
    "* the sum of all values."
   ],
   "metadata": {
    "collapsed": false
   }
  },
  {
   "cell_type": "code",
   "execution_count": null,
   "outputs": [],
   "source": [
    "print(len(dct.keys()))\n",
    "\n",
    "values = list(dct.values())\n",
    "values.sort()\n",
    "\n",
    "print(values[-1])\n",
    "\n",
    "print(sum(values))"
   ],
   "metadata": {
    "collapsed": false,
    "pycharm": {
     "name": "#%%\n"
    }
   }
  },
  {
   "cell_type": "markdown",
   "source": [
    "c.) In addition, print the frequencies of the following words using your dictionary (if the word does not occur in the dictionary, print 'WORD does not occur')\n",
    "* up\n",
    "* near\n",
    "* together\n",
    "* lion\n",
    "* cow"
   ],
   "metadata": {
    "collapsed": false
   }
  },
  {
   "cell_type": "code",
   "execution_count": null,
   "outputs": [],
   "source": [
    "for word in ['up', 'near' , 'together', 'lion', 'cow']:\n",
    "    if word not in dct.keys():\n",
    "     print('WORD does not occur')\n",
    "    else:\n",
    "     print(dct[word])"
   ],
   "metadata": {
    "collapsed": false,
    "pycharm": {
     "name": "#%%\n"
    }
   }
  },
  {
   "cell_type": "markdown",
   "source": [
    "## Exercise 6: Functions"
   ],
   "metadata": {
    "collapsed": false
   }
  },
  {
   "cell_type": "markdown",
   "source": [
    "#### Exercise 6a: the beersong\n",
    "Please write a function that prints the beersong when it is called.\n",
    "The function:\n",
    "* is called `print_beersong`\n",
    "* has one positional parameter `start_number` (this is 99 in the original song)\n",
    "* prints the beer song"
   ],
   "metadata": {
    "collapsed": false
   }
  },
  {
   "cell_type": "code",
   "execution_count": null,
   "outputs": [],
   "source": [
    "def print_beersong(start_number):\n",
    " for count in range(start_number, 0, -1):\n",
    "     print(count, f'{\"bottles\" if count > 1 else \"bottle\"} of beer on the wall,')\n",
    "     print('')\n",
    "     print(count, f'{\"bottles\" if count > 1 else \"bottle\"} of beer.\\n\\nTake one down, pass it around,')\n",
    "     print('')\n",
    "     print(count - 1, f'{\"bottles\" if count - 1 > 1 else \"bottle\"} of beer on the wall\\n\\n')\n",
    "\n",
    " print('No more bottles of beer on the wall,\\n\\nNo more bottles of beer.\\n\\nGo to the store and buy some more,\\n\\n99 bottles of beer on the wall.')\n",
    "print_beersong(4)"
   ],
   "metadata": {
    "collapsed": false,
    "pycharm": {
     "name": "#%%\n"
    }
   }
  },
  {
   "cell_type": "markdown",
   "source": [
    "#### Exercise 6b: the whatever can be in a bottle song\n",
    "There are other liquids than beer than can be placed in a bottle, e.g., *99 bottles of water on the wall.*.\n",
    "Please write a function that prints a variation of the beersong when it is called. All occurrences of **beer** will be replaced by what the user provides as an argument, e.g., *water*.\n",
    "\n",
    "The function:\n",
    "* is called `print_liquids`\n",
    "* has one positional parameter: `start_number` (this is **99** in the original song)\n",
    "* has one keyword parameter: `liquid` (set the default value to **beer**)\n",
    "* prints a liquids song"
   ],
   "metadata": {
    "collapsed": false
   }
  },
  {
   "cell_type": "code",
   "execution_count": null,
   "outputs": [],
   "source": [
    "def print_liquids(start_number, liquid='beer'):\n",
    " for count in range(start_number, 0, -1):\n",
    "     print(count, f'{\"bottles\" if count > 1 else \"bottle\"} of {liquid} on the wall,')\n",
    "     print('')\n",
    "     print(count, f'{\"bottles\" if count > 1 else \"bottle\"} of {liquid}.\\n\\nTake one down, pass it around,')\n",
    "     print('')\n",
    "     print(count - 1, f'{\"bottles\" if count - 1 > 1 else \"bottle\"} of {liquid} on the wall\\n\\n')\n",
    "\n",
    " print(f'No more bottles of {liquid} on the wall,\\n\\nNo more bottles of {liquid}.\\n\\nGo to the store and buy some more,\\n\\n99 bottles of {liquid} on the wall.')\n",
    "print_liquids(4, liquid='water')"
   ],
   "metadata": {
    "collapsed": false,
    "pycharm": {
     "name": "#%%\n"
    }
   }
  },
  {
   "cell_type": "markdown",
   "source": [
    "#### Exercise 6c: preprocessing text\n",
    "Please write the answer to Exercise 4a as a function. The function replaces the following characters by empty spaces in a text:\n",
    "* newlines: '\\n'\n",
    "* commas: ','\n",
    "* dots: '.'\n",
    "* quotes: '\"'\n",
    "\n",
    "The function is:\n",
    "* is called `clean_text`\n",
    "* has one positional parameter `text`\n",
    "* return a string, e.g., the cleaned text\n"
   ],
   "metadata": {
    "collapsed": false
   }
  },
  {
   "cell_type": "code",
   "execution_count": null,
   "outputs": [],
   "source": [
    "def clean_text(text):\n",
    "    story = text.replace('\\n', '')\n",
    "\n",
    "    characters = [',', '.', '\"']\n",
    "\n",
    "    for cha in characters:\n",
    "     story = story.replace(cha, '')\n",
    "\n",
    "    return story\n",
    "\n",
    "print(clean_text(a_story))"
   ],
   "metadata": {
    "collapsed": false,
    "pycharm": {
     "name": "#%%\n"
    }
   }
  },
  {
   "cell_type": "markdown",
   "source": [
    "#### Exercise 6d: preprocessing text in a more general way\n",
    "Please write a function that replaces all characters that the user provides by empty spaces.\n",
    "\n",
    "The function is:\n",
    "* is called `clean_text_general`\n",
    "* has one positional parameter `text`\n",
    "* has one keyword parameter `chars_to_remove`, which is a set (set the default to {'\\n', ',', '.', '\"'})\n",
    "* return a string, e.g., the cleaned text\n",
    "\n",
    "When the user provides a different value to `chars_to_remove`, e.g., {'a'}, then only those characters should be replaced by empty spaces in the text."
   ],
   "metadata": {
    "collapsed": false
   }
  },
  {
   "cell_type": "code",
   "execution_count": null,
   "outputs": [],
   "source": [
    "import assignment2_utils\n",
    "\n",
    "print(assignment2_utils.clean_text_general(a_story, {'a'}))"
   ],
   "metadata": {
    "collapsed": false,
    "pycharm": {
     "name": "#%%\n"
    }
   }
  },
  {
   "cell_type": "markdown",
   "source": [
    "Please store this function in a file called **assignment2_utils.py**. Please import the function and call it in this notebook."
   ],
   "metadata": {
    "collapsed": false
   }
  },
  {
   "cell_type": "markdown",
   "source": [
    "#### Exercise 6e: including and excluding words\n",
    "Please write Exercise 5a as a function.\n",
    "\n",
    "The function:\n",
    "* is called `exclude_and_count`\n",
    "* has one positional parameter `words`, which is a list of strings.\n",
    "* creates a dictionary in which the **key** is a word and the **value** is the frequency of that word.\n",
    "* words are excluded if they meet one of the following criteria:\n",
    "    * end with the letter e\n",
    "    * start with the letter t\n",
    "    * start with the letter c and end with the letter w (both conditions must be met)\n",
    "    * have six or more letters\n",
    "* returns a dictionary in which the **key** is the word and the **value** is the frequency of the word."
   ],
   "metadata": {
    "collapsed": false
   }
  },
  {
   "cell_type": "code",
   "execution_count": null,
   "outputs": [],
   "source": [
    "def exclude_and_count(words):\n",
    " words_lst = [word for word in words if word[-1] != 'e' and word[0] != 't' and not (word[0] == 'c' and word[-1] == 'w') and len(word) < 6]\n",
    " dct = {}\n",
    "\n",
    " for word in words_lst:\n",
    "  dct[word] = words_lst.count(word)\n",
    "\n",
    " return dct\n",
    "\n",
    "print(exclude_and_count(words))"
   ],
   "metadata": {
    "collapsed": false,
    "pycharm": {
     "name": "#%%\n"
    }
   }
  },
  {
   "cell_type": "markdown",
   "source": [
    "## Exercise 7: Questions about Python\n",
    "Please answer the following questions about the Python language. You can give an examples if they help you.\n"
   ],
   "metadata": {
    "collapsed": false
   }
  },
  {
   "cell_type": "markdown",
   "source": [
    "a. What is the difference between positional parameters and keyword parameters?"
   ],
   "metadata": {
    "collapsed": false
   }
  },
  {
   "cell_type": "code",
   "execution_count": null,
   "outputs": [],
   "source": [
    "# Positional arguments are must respect the order in which they are used,\n",
    "# as Python uses their order to place in a function, while keyword\n",
    "# arguments don't need to respect said order as they have a name which\n",
    "# allows to know what they refer to regardless of order.\n",
    "\n"
   ],
   "metadata": {
    "collapsed": false,
    "pycharm": {
     "name": "#%%\n"
    }
   }
  },
  {
   "cell_type": "markdown",
   "source": [
    "b. What is/are the type/types of containers that you define using curly brackets?"
   ],
   "metadata": {
    "collapsed": false
   }
  },
  {
   "cell_type": "code",
   "execution_count": null,
   "outputs": [],
   "source": [
    "# Dictionaries and sets\n",
    "\n"
   ],
   "metadata": {
    "collapsed": false,
    "pycharm": {
     "name": "#%%\n"
    }
   }
  },
  {
   "cell_type": "markdown",
   "source": [
    "c. When comparing the containers lists and sets, there are three properties that are unique for lists. Please name and explain them."
   ],
   "metadata": {
    "collapsed": false
   }
  },
  {
   "cell_type": "code",
   "execution_count": null,
   "outputs": [],
   "source": [
    "# Lists can have duplicates, are ordered and can contain more than just hashable objects\n"
   ],
   "metadata": {
    "collapsed": false,
    "pycharm": {
     "name": "#%%\n"
    }
   }
  },
  {
   "cell_type": "markdown",
   "source": [
    "d. Explain the difference between **continue** and **break**. You can use an example for this."
   ],
   "metadata": {
    "collapsed": false
   }
  },
  {
   "cell_type": "code",
   "execution_count": null,
   "outputs": [],
   "source": [
    "# Continue forces the code to go back to the for loop it belongs to and iterate while break forces the code out of the loop.\n",
    "\n",
    "for i in range(10):\n",
    " if i % 2 == 0:\n",
    "  for j in range(10):\n",
    "   if j % 2 != 0:\n",
    "    print(f'Breaking on {j}')\n",
    "    break\n",
    " else:\n",
    "  print(f'Contiuing on {i}')\n",
    "  continue\n"
   ],
   "metadata": {
    "collapsed": false,
    "pycharm": {
     "name": "#%%\n"
    }
   }
  }
 ],
 "metadata": {
  "kernelspec": {
   "display_name": "Python 3",
   "language": "python",
   "name": "python3"
  },
  "language_info": {
   "codemirror_mode": {
    "name": "ipython",
    "version": 2
   },
   "file_extension": ".py",
   "mimetype": "text/x-python",
   "name": "python",
   "nbconvert_exporter": "python",
   "pygments_lexer": "ipython2",
   "version": "2.7.6"
  }
 },
 "nbformat": 4,
 "nbformat_minor": 0
}
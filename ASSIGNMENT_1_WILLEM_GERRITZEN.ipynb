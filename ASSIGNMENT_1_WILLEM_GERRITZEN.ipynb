{
 "cells": [
  {
   "cell_type": "markdown",
   "source": [
    "# Assignment 1: Calculation, Strings, Boolean Expressions and Conditions\n",
    "\n",
    "**Deadline: Friday, September 9, 2021 before 3pm (submit via Canvas: Block I/Assignment 1)**\n",
    "\n",
    "\n",
    "This assignment is **not graded**, but it is mandatory to submit a version that shows you have given it a serious try. We will check your assignments to monitor the progress and get an impression of how the course is going so far. You will receive feedback and solutions on Monday September 13. **Please note that the material taught in this block is essential for all subsequent blocks.**\n",
    "\n",
    "- Please name your notebook with the following naming convention: ASSIGNMENT_1_FIRSTNAME_LASTNAME.ipynb\n",
    "- If you have **questions** about this topic, please contact **cltl.python.course@gmail.com**.\n",
    "\n",
    "\n",
    "In this block, we covered the following chapters:\n",
    "\n",
    "- Chapter 1 - Getting Started with Variables and Values\n",
    "- Chapter 2 - Basic Data Types (Integers and Floats)\n",
    "- Chapter 3 - Strings\n",
    "- Chapter 4 - Boolean Expressions and Conditions\n",
    "\n",
    "In this assignment, you will be asked to show what you have learned from the topics above!\n",
    "\n",
    "**Looking things up**\n",
    "\n",
    "Don't worry - you do not have to know things by heart yet - feel free to have all Chapters of block 1 open while you work on this. This also goes for all future assignments.\n",
    "\n",
    "**Finding solutions online**\n",
    "\n",
    "Very often, you can find good solutions online. We encourage you to use online resources when you get stuck. However, please always try to understand the code you find and indicate that it is not your own. Use the following format to mark code written by someone else:\n",
    "\n",
    "###Taken from [link] [date]\n",
    "\n",
    "[code]\n",
    "\n",
    "\\###\n",
    "\n",
    "Please use a similar format to indicate that you have worked with a classmate (e.g. mention the name instead of the link).\n",
    "\n",
    "*Indicating online resources and collaboration is mandatory! Please stick to this strategy for all course assignments.*\n",
    "\n",
    "**Being stuck and getting help**\n",
    "\n",
    "It is very normal to get stuck every now and then. Sometimes you find what is wrong within minutes, sometimes this takes longer. If you get stuck, please apply the strategies described in the readme. If none of them work, please contact us (cltl.python.course@gmail.com)."
   ],
   "metadata": {
    "collapsed": false
   }
  },
  {
   "cell_type": "markdown",
   "source": [
    "## Exercise 1: Calculation\n"
   ],
   "metadata": {
    "collapsed": false
   }
  },
  {
   "cell_type": "markdown",
   "source": [
    "#### 1a. Average\n",
    "Define three variables `var1`, `var2` and `var3`. Calculate the average of these variables and assign it to the variable `average`. Print the outcome of your program as follows (use casting or an f-string):\n",
    "\n",
    "`The average of [...], [...] and [...] is: [...]`"
   ],
   "metadata": {
    "collapsed": false
   }
  },
  {
   "cell_type": "code",
   "execution_count": null,
   "outputs": [
    {
     "name": "stdout",
     "output_type": "stream",
     "text": [
      "The average of 4, 5, and 9 is 6.0\n"
     ]
    }
   ],
   "source": [
    "var1 = 4\n",
    "var2 = 5\n",
    "var3 = 9\n",
    "\n",
    "average = (var1 + var2 + var3) / 3\n",
    "\n",
    "print(f\"The average of {var1}, {var2}, and {var3} is {average}\")"
   ],
   "metadata": {
    "collapsed": false,
    "pycharm": {
     "name": "#%%\n"
    }
   }
  },
  {
   "cell_type": "markdown",
   "source": [
    "#### 1b. Book prices\n",
    "\n",
    "\n",
    "Calculate book prices for the following scenarios:\n",
    "\n",
    "Suppose the price of a book is 24.95 EUR, but if the book is bought by a bookstore, they get a 30 percent discount (as opposed to customers buying from an online stores). Shipping costs 3 EUR for the first copy and 75 cents for each additional copy. Shipping costs always apply (the books also have to be shipped to the bookstore).\n",
    "\n",
    "Write a program that can calculate the total costs for any number of copies for both bookstores and other customers. Use variables with clear names for your calculations and print the result using a full sentence.\n",
    "\n",
    "The program should use variables which indicate whether the customer is a bookstore or not and how many books are bought. You can simply assign values to the variables in you code or use the input function (both is accepted).\n",
    "\n",
    "\n",
    "**Tip**\n",
    "\n",
    "Start small and add things in steps. For instance, start by calculating the price minus the discount. Then add the additional steps. Also, it helps to a start by simply assuming a specific number of books (start with 1 and make sure it works with any other number). Do not forget to test your program!"
   ],
   "metadata": {
    "collapsed": false
   }
  },
  {
   "cell_type": "code",
   "execution_count": null,
   "outputs": [
    {
     "name": "stdout",
     "output_type": "stream",
     "text": [
      "The final price for 4 books, given the customer is a person, is 105.25\n"
     ]
    }
   ],
   "source": [
    "n_books = 4\n",
    "customer_is_bookstore = False\n",
    "price = 25\n",
    "discount = 0.3\n",
    "shipping_1 = 3\n",
    "shipping_2 = 0.75\n",
    "\n",
    "price_all_books = n_books * price\n",
    "\n",
    "# Apply discount if bookstore\n",
    "if customer_is_bookstore:\n",
    "    price_all_books = price_all_books - (price_all_books * discount)\n",
    "\n",
    "final_price = price_all_books + shipping_1\n",
    "\n",
    "for _ in range(n_books - 1):\n",
    "    final_price += shipping_2\n",
    "\n",
    "print(f\"The final price for {n_books} books, given the customer is a {'bookstore' if customer_is_bookstore else 'person'}, is {final_price}\")"
   ],
   "metadata": {
    "collapsed": false,
    "pycharm": {
     "name": "#%%\n"
    }
   }
  },
  {
   "cell_type": "markdown",
   "source": [
    "#### 1c. The modulus operator\n",
    "\n",
    "There is one operator (like the ones for multiplication and subtraction) that we did not discuss yet, namely the modulus operator %. Could you figure out by yourself what it does when you place it between two numbers (e.g. 113 % 9)? (PS: Try to figure it out by yourself first, by trying multiple combinations of numbers. If you do not manage, it's OK to use online resources...)\n",
    "\n",
    "You don't need this operator all that often, but when you do, it comes in really handy! Also, it is important to learn how to figure out what operators/methods/functions you have never seen before do by playing with code, googling or reading documentation.\n"
   ],
   "metadata": {
    "collapsed": false
   }
  },
  {
   "cell_type": "code",
   "execution_count": null,
   "outputs": [
    {
     "name": "stdout",
     "output_type": "stream",
     "text": [
      "2\n"
     ]
    }
   ],
   "source": [
    "modulus = 10 % 4\n",
    "\n",
    "print(modulus)\n",
    "\n",
    "# What is left after substracting the right-hand number to the left-hand as many times as possible\n"
   ],
   "metadata": {
    "collapsed": false,
    "pycharm": {
     "name": "#%%\n"
    }
   }
  },
  {
   "cell_type": "markdown",
   "source": [
    "**Help the cashier**\n",
    "\n",
    "Can you use the modulus operator you just learned about to solve the following task? Imagine you want to help cashiers to return the change in a convenient way. This means you do not want to return hands full of small coins, but rather use bills and as few coins as possible.\n",
    "\n",
    "Write code  that classifies a given amount of money into smaller monetary units. Given a specific amout of dollars, your program should report the maximum number of dollar bills,  quarters, dimes, nickels, and pennies.\n",
    "\n",
    "Set the amount variable to 11.67. You code should output a report listing the monetary equivalent in dollars, quarters, dimes, nickels, and pennies (one quarter is equivalent to 25 cents; one dime to 10 cents; one nickle to 5 cents and a pennie to 1 cent). Your program should report the maximum number of dollars, then the number of quarters, dimes, nickels, and pennies, in this order, to result in the minimum number of coins. Here are the steps in developing the program:\n",
    "\n",
    "1. Convert the amount (11.67) into cents (1167).\n",
    "2. First get the amount of cents that you would get after subtracting the maximum amount of dollars (100 cents) using the modulus operator (67 cents).\n",
    "3. Then subtract the remainder (67 cents) from the total amount of cents (1167 cents) and divide this by 100 to find the number of dollars.\n",
    "4. Use the modulus operator again to find out the remainder after subtracting the maximum amount of quarters (17 cents).\n",
    "5. Subtract this remainder (17 cents) from the previous remainder (67 cents) and divide this by 25 to find out the number of quarters.\n",
    "6. Follow the same steps for the dimes, nickels and pennies.\n",
    "7. Display the result for your cashier! (the amount of dollars, quarters, dimes, nickels and pennies that (s)he would have to give back)`"
   ],
   "metadata": {
    "collapsed": false
   }
  },
  {
   "cell_type": "code",
   "execution_count": null,
   "outputs": [
    {
     "name": "stdout",
     "output_type": "stream",
     "text": [
      "Dollars: 11.0\n",
      "Quarters: 2.0\n",
      "Dimes: 1.0\n",
      "Nickels: 1.0\n",
      "Pennies: 2.0\n"
     ]
    }
   ],
   "source": [
    "# Convert to cents\n",
    "init_amount = 11.67\n",
    "amount_cents = init_amount * 100\n",
    "\n",
    "# Find dollars\n",
    "dollars = (amount_cents - (amount_cents % 100)) // 100\n",
    "leftover = amount_cents % 100\n",
    "\n",
    "# Find quarters\n",
    "quarters = (leftover - (leftover % 25)) // 25\n",
    "leftover %= 25\n",
    "\n",
    "# Find dimes\n",
    "dimes = (leftover - (leftover % 10)) // 10\n",
    "leftover %= 10\n",
    "\n",
    "# Find nickels and pennies\n",
    "nickels = (leftover - (leftover % 5)) // 5\n",
    "leftover %= 5\n",
    "\n",
    "print(f\"Dollars: {dollars}\\nQuarters: {quarters}\\nDimes: {dimes}\\nNickels: {nickels}\\nPennies: {leftover}\")"
   ],
   "metadata": {
    "collapsed": false,
    "pycharm": {
     "name": "#%%\n"
    }
   }
  },
  {
   "cell_type": "markdown",
   "source": [
    "## Exercise 2: Printing and user input\n"
   ],
   "metadata": {
    "collapsed": false
   }
  },
  {
   "cell_type": "markdown",
   "source": [
    "#### 2a. Difference between \",\" and \"+\"\n",
    "\n",
    "What is the difference between using **+** and **,** in a print statement? Illustrate by using both in each of the following:\n",
    "\n",
    "* calling the `print()` fuction with multiple strings\n",
    "* printing combinations of strings and integers\n",
    "* concatenating multiple strings and assign to one single variable\n",
    "* concatenating strings and integers and assign to one single variable"
   ],
   "metadata": {
    "collapsed": false
   }
  },
  {
   "cell_type": "code",
   "execution_count": null,
   "outputs": [
    {
     "name": "stdout",
     "output_type": "stream",
     "text": [
      "These are twoconcatenated strings\n",
      "These are two concatenated strings\n"
     ]
    }
   ],
   "source": [
    "print('These are two' + 'concatenated strings')\n",
    "print('These are two' , 'concatenated strings')"
   ],
   "metadata": {
    "collapsed": false,
    "pycharm": {
     "name": "#%%\n"
    }
   }
  },
  {
   "cell_type": "code",
   "execution_count": null,
   "outputs": [
    {
     "name": "stdout",
     "output_type": "stream",
     "text": [
      "This is a string that cannot handle ints 4\n",
      "This is a string that can handle ints 4\n"
     ]
    }
   ],
   "source": [
    "print('This is a string ' + 'that cannot handle ints 4')\n",
    "print('This is a string that can handle ints' , 4)"
   ],
   "metadata": {
    "collapsed": false,
    "pycharm": {
     "name": "#%%\n"
    }
   }
  },
  {
   "cell_type": "code",
   "execution_count": null,
   "outputs": [
    {
     "name": "stdout",
     "output_type": "stream",
     "text": [
      "This is a simple concatenated string\n",
      "('This is a tuple', 'made up of multiple strings')\n"
     ]
    }
   ],
   "source": [
    "var1 = 'This is a ' + 'simple concatenated string'\n",
    "var2 = 'This is a tuple' , 'made up of multiple strings'\n",
    "print(var1)\n",
    "print(var2)\n"
   ],
   "metadata": {
    "collapsed": false,
    "pycharm": {
     "name": "#%%\n"
    }
   }
  },
  {
   "cell_type": "code",
   "execution_count": null,
   "outputs": [
    {
     "name": "stdout",
     "output_type": "stream",
     "text": [
      "This is a simple concatenated string\n",
      "('This is a tuple with a string and an int', 3)\n"
     ]
    }
   ],
   "source": [
    "var1 = 'This is a ' + 'simple concatenated string'\n",
    "var2 = 'This is a tuple with a string and an int' , 3\n",
    "print(var1)\n",
    "print(var2)\n"
   ],
   "metadata": {
    "collapsed": false,
    "pycharm": {
     "name": "#%%\n"
    }
   }
  },
  {
   "cell_type": "markdown",
   "source": [
    "####  2b. Small Talk\n",
    "Write a program to have a little conversation with someone. First ask them for their name and their age, and then say something about your own age compared to theirs. Your code should result in a conversation following this example:\n",
    "\n",
    "> `Hello there! What is your name?`\n",
    "\n",
    "> -- Emily.\n",
    "\n",
    "> `Nice to meet you, Emily. How old are you?`\n",
    "\n",
    "> -- 23\n",
    "\n",
    "> `I'm 25 years old, so I'm 2 years older than you.`\n",
    "\n",
    "Also account for situations where the other person is older or the same age. You will need to use `if-else`-statements!"
   ],
   "metadata": {
    "collapsed": false
   }
  },
  {
   "cell_type": "code",
   "execution_count": null,
   "outputs": [
    {
     "ename": "ValueError",
     "evalue": "invalid literal for int() with base 10: ''",
     "output_type": "error",
     "traceback": [
      "\u001B[1;31m---------------------------------------------------------------------------\u001B[0m",
      "\u001B[1;31mValueError\u001B[0m                                Traceback (most recent call last)",
      "\u001B[1;32m~\\AppData\\Local\\Temp/ipykernel_26544/3988358717.py\u001B[0m in \u001B[0;36m<module>\u001B[1;34m\u001B[0m\n\u001B[0;32m      2\u001B[0m \u001B[0mage\u001B[0m \u001B[1;33m=\u001B[0m \u001B[0minput\u001B[0m\u001B[1;33m(\u001B[0m\u001B[1;34mf\"Nice to meet you, {name}. How old are you? \"\u001B[0m\u001B[1;33m)\u001B[0m\u001B[1;33m\u001B[0m\u001B[1;33m\u001B[0m\u001B[0m\n\u001B[0;32m      3\u001B[0m \u001B[0mmy_age\u001B[0m \u001B[1;33m=\u001B[0m \u001B[1;36m25\u001B[0m\u001B[1;33m\u001B[0m\u001B[1;33m\u001B[0m\u001B[0m\n\u001B[1;32m----> 4\u001B[1;33m \u001B[0mdiff\u001B[0m \u001B[1;33m=\u001B[0m \u001B[0mmy_age\u001B[0m \u001B[1;33m-\u001B[0m \u001B[0mint\u001B[0m\u001B[1;33m(\u001B[0m\u001B[0mage\u001B[0m\u001B[1;33m)\u001B[0m\u001B[1;33m\u001B[0m\u001B[1;33m\u001B[0m\u001B[0m\n\u001B[0m\u001B[0;32m      5\u001B[0m \u001B[1;33m\u001B[0m\u001B[0m\n\u001B[0;32m      6\u001B[0m \u001B[1;32mif\u001B[0m \u001B[0mdiff\u001B[0m \u001B[1;33m>\u001B[0m \u001B[1;36m0\u001B[0m\u001B[1;33m:\u001B[0m\u001B[1;33m\u001B[0m\u001B[1;33m\u001B[0m\u001B[0m\n",
      "\u001B[1;31mValueError\u001B[0m: invalid literal for int() with base 10: ''"
     ]
    }
   ],
   "source": [
    "name = input(\"Hello there! What is your name? \")\n",
    "age = input(f\"Nice to meet you, {name}. How old are you? \")\n",
    "my_age = 25\n",
    "diff = my_age - int(age)\n",
    "\n",
    "if diff > 0:\n",
    "    print(f\"I'm {my_age} years old, so I'm {diff} years older than you\")\n",
    "\n",
    "if diff == 0:\n",
    "    print(f\"What a coincidence, I'm also {my_age} years old!\")\n",
    "\n",
    "if diff < 0:\n",
    "    print(f\"I'm {my_age} years old, so I'm {abs(diff)} years younger than you\")\n"
   ],
   "metadata": {
    "collapsed": false,
    "pycharm": {
     "name": "#%%\n"
    }
   }
  },
  {
   "cell_type": "markdown",
   "source": [
    "## Exercise 3: String Art"
   ],
   "metadata": {
    "collapsed": false
   }
  },
  {
   "cell_type": "markdown",
   "source": [
    "#### 3a. Drawing figures\n",
    "We start with some repetition of the theory about strings:"
   ],
   "metadata": {
    "collapsed": false
   }
  },
  {
   "cell_type": "markdown",
   "source": [
    "| Topic | Explanation |\n",
    "|-----------|--------|\n",
    "| `quotes` |\tA string is delimited by single quotes ('...') or double quotes (\"...\") |\n",
    "| `special characters` |\tCertain special characters can be used, such as \"\\n\" (for newline) and \"\\t\" (for a tab) \t|\n",
    "| `printing special characters` |\tTo print the special characters, they must be preceded by a backslash (\\\\)\t |\n",
    "| `continue on next line` |\tA backslash (\\\\) at the end of a line is used to continue a string on the next line\t  \t |\n",
    "| `multi-line strings` |\tA multi-line print statement should be enclosed by three double or three single quotes (\"\"\"...\"\"\" of '''...''')\t |"
   ],
   "metadata": {
    "collapsed": false
   }
  },
  {
   "cell_type": "markdown",
   "source": [
    "Please run the code snippet below and observe what happens:"
   ],
   "metadata": {
    "collapsed": false
   }
  },
  {
   "cell_type": "code",
   "execution_count": null,
   "outputs": [],
   "source": [
    "print('hello\\n')\n",
    "print('To print a newline use \\\\n')\n",
    "print('She said: \\'hello\\'')\n",
    "print('\\tThis is indented')\n",
    "print('This is a very, very, very, very, very, very \\\n",
    "long print statement')\n",
    "print('''\n",
    "This is a multi-line print statement\n",
    "First line\n",
    "Second line\n",
    "''')"
   ],
   "metadata": {
    "collapsed": false,
    "pycharm": {
     "name": "#%%\n"
    }
   }
  },
  {
   "cell_type": "markdown",
   "source": [
    "Now write a Python script that prints the following figure using **only one line of code**! (so don't use triple quotes)\n",
    "\n",
    "        | | |\n",
    "         @ @\n",
    "          u\n",
    "        |\"\"\"|\n"
   ],
   "metadata": {
    "collapsed": false
   }
  },
  {
   "cell_type": "code",
   "execution_count": null,
   "outputs": [],
   "source": [
    "print('| | |\\n @ @\\n  u  \\n|\"\"\"|')"
   ],
   "metadata": {
    "collapsed": false,
    "pycharm": {
     "name": "#%%\n"
    }
   }
  },
  {
   "cell_type": "markdown",
   "source": [
    "#### 3b. Colors\n",
    "We start again with some repetition of the theory:"
   ],
   "metadata": {
    "collapsed": false
   }
  },
  {
   "cell_type": "markdown",
   "source": [
    "| Topic | Explanation |\n",
    "|-----------|--------|\n",
    "| a = b + c\t| if b and c are strings: concatenate b and c to form a new string a|\n",
    "| a = b * c\t| if b is an integer and c is a string: c is repeated b times to form a new string a |\n",
    "| a[0] |\t the first character of string a  |\n",
    "| len(a) |\t the number of characters in string a |\n",
    "| min(a) |\t the smallest element in string a (alphabetically first) |\n",
    "| max(a) |\t the largest element in string a (alphabetically last) |"
   ],
   "metadata": {
    "collapsed": false
   }
  },
  {
   "cell_type": "markdown",
   "source": [
    "Please run the code snippet below and observe what happens:"
   ],
   "metadata": {
    "collapsed": false
   }
  },
  {
   "cell_type": "code",
   "execution_count": null,
   "outputs": [],
   "source": [
    "b = 'the'\n",
    "c = 'cat'\n",
    "d = ' is on the mat'\n",
    "a = b + ' ' + c + d\n",
    "print(a)\n",
    "a = b * 5\n",
    "print(a)\n",
    "print('The first character of', c, 'is' , c[0])\n",
    "print('The word c has,', len(c) ,'characters')"
   ],
   "metadata": {
    "collapsed": false,
    "pycharm": {
     "name": "#%%\n"
    }
   }
  },
  {
   "cell_type": "markdown",
   "source": [
    "Now write a program that asks users for their favorite color. Create the following output (assuming \"red\" is the chosen color). Use \"+\" and \"\\*\".\n",
    "It should work with any color name though.\n",
    "\n",
    "```xml\n",
    "red red red red red red red red red red\n",
    "red                                 red\n",
    "red                                 red\n",
    "red red red red red red red red red red\n",
    "```"
   ],
   "metadata": {
    "collapsed": false
   }
  },
  {
   "cell_type": "code",
   "execution_count": null,
   "outputs": [],
   "source": [
    "color = input('what is your favorite color? ')\n",
    "\n",
    "print((color + ' ') * 10)\n",
    "print(color, ' ' * (len(color + ' ') * 8 - 1), color)\n",
    "print(color, ' ' * (len(color + ' ') * 8 - 1), color)\n",
    "print((color + ' ') * 10)"
   ],
   "metadata": {
    "collapsed": false,
    "pycharm": {
     "name": "#%%\n"
    }
   }
  },
  {
   "cell_type": "markdown",
   "source": [
    "## Exercise 4: String methods\n",
    "\n",
    "Remember that you can see all methods of the class `str` by using `dir()`. You can ignore all methods that start with one or two underscores."
   ],
   "metadata": {
    "collapsed": false
   }
  },
  {
   "cell_type": "code",
   "execution_count": null,
   "outputs": [],
   "source": [
    "dir(str)"
   ],
   "metadata": {
    "collapsed": false,
    "pycharm": {
     "name": "#%%\n"
    }
   }
  },
  {
   "cell_type": "markdown",
   "source": [
    "To see the explanation for a method of this class,  you can use `help(str.method)`. For example:"
   ],
   "metadata": {
    "collapsed": false
   }
  },
  {
   "cell_type": "code",
   "execution_count": null,
   "outputs": [],
   "source": [
    "help(str.upper)"
   ],
   "metadata": {
    "collapsed": false,
    "pycharm": {
     "name": "#%%\n"
    }
   }
  },
  {
   "cell_type": "markdown",
   "source": [
    "#### 4a. Counting vowels\n",
    "Count how many of each vowel (a,e,i,o,u) there are in the text string in the next cell. Print the count for each vowel with a single formatted string. Remember that vowels can be both lower and uppercase."
   ],
   "metadata": {
    "collapsed": false
   }
  },
  {
   "cell_type": "code",
   "execution_count": null,
   "outputs": [],
   "source": [
    "text = \"\"\"But I must explain to you how all this mistaken idea of denouncing pleasure and praising pain was born\n",
    "and I will give you a complete account of the system, and expound the actual teachings of the great explorer of the\n",
    "truth, the master-builder of human happiness. No one rejects, dislikes, or avoids pleasure itself, because it is\n",
    "pleasure, but because those who do not know how to pursue pleasure rationally encounter consequences that are\n",
    "extremely painful. Nor again is there anyone who loves or pursues or desires to obtain pain of itself, because it is\n",
    "pain, but because occasionally circumstances occur in which toil and pain can procure him some great pleasure.\n",
    "To take a trivial example, which of us ever undertakes laborious physical exercise, except to obtain some advantage\n",
    "from it? But who has any right to find fault with a man who chooses to enjoy a pleasure that has no annoying\n",
    "consequences, or one who avoids a pain that produces no resultant pleasure? On the other hand, we denounce with\n",
    "righteous indignation and dislike men who are so beguiled and demoralized by the charms of pleasure of the moment,\n",
    "so blinded by desire, that they cannot foresee the pain and trouble that are bound to ensue; and equal blame belongs\n",
    "to those who fail in their duty through weakness of will, which is the same as saying through shrinking from toil\n",
    "and pain.\"\"\"\n",
    "\n",
    "a = 0\n",
    "e = 0\n",
    "i = 0\n",
    "o = 0\n",
    "u = 0\n",
    "\n",
    "for character in text:\n",
    "    if character == 'a' or character == 'A':\n",
    "        a += 1\n",
    "\n",
    "    if character == 'e' or character == 'E':\n",
    "        e += 1\n",
    "\n",
    "    if character == 'i' or character == 'I':\n",
    "        i += 1\n",
    "\n",
    "    if character == 'o' or character == 'O':\n",
    "        o += 1\n",
    "\n",
    "    if character == 'u' or character == 'U':\n",
    "        u += 1\n",
    "\n",
    "print(f\"The final count is:\\n{a} instances of a's\\n{e} instances of e's\\n{i} instances of i's\\n{o} instances of o's\\n{u} instances of u's\")"
   ],
   "metadata": {
    "collapsed": false,
    "pycharm": {
     "name": "#%%\n"
    }
   }
  },
  {
   "cell_type": "markdown",
   "source": [
    "#### 4b. Printing the lexicon\n",
    "Have a good look at the internal representation of the string below. Use a combination of string methods (you will need at least 3 different ones and some will have to be used multiple times) in the correct order to remove punctuation and redundant whitespaces, and print each word in lowercase characters on a new line. The result should look like:\n",
    "\n",
    "`the\n",
    "quick\n",
    "brown\n",
    "fox\n",
    "jumps\n",
    "etc.`"
   ],
   "metadata": {
    "collapsed": false
   }
  },
  {
   "cell_type": "code",
   "execution_count": null,
   "outputs": [],
   "source": [
    "text = \"\"\"           The quick, brown fox jumps over a lazy dog.\\tDJs flock by when MTV ax quiz prog.\n",
    "Junk MTV quiz graced by fox whelps.\\tBawds jog, flick quartz, vex nymphs.\n",
    "Waltz, bad nymph, for quick jigs vex!\\tFox nymphs grab quick-jived waltz.\n",
    "Brick quiz whangs jumpy veldt fox.       \"\"\"\n",
    "\n",
    "print(text)\n",
    "print()\n",
    "print(repr(text))"
   ],
   "metadata": {
    "collapsed": false,
    "pycharm": {
     "name": "#%%\n"
    }
   }
  },
  {
   "cell_type": "code",
   "execution_count": null,
   "outputs": [],
   "source": [
    "text = text.lstrip()\n",
    "text = text.rstrip()\n",
    "text = text.replace('\\t', ' ')\n",
    "text = text.replace('.', '')\n",
    "text = text.replace(',', '')\n",
    "text = text.replace('!', '')\n",
    "text = text.lower()\n",
    "\n",
    "\n",
    "print(text)"
   ],
   "metadata": {
    "collapsed": false,
    "pycharm": {
     "name": "#%%\n"
    }
   }
  },
  {
   "cell_type": "markdown",
   "source": [
    "#### 4c. Passwords\n",
    "\n",
    "Write a program that asks a user for a password and checks some simple requirements of a password. If necessary, print out the following warnings (use if-statements):\n",
    "\n",
    "1. Your password should contain at least 6 characters.\n",
    "2. Your password should contain no more than 12 characters.\n",
    "3. Your password only contains alphabetic characters! Please also use digits and/or special characters.\n",
    "4. Your password only contains digits! Please also use alphabetic and/or special characters.\n",
    "5. Your password should contain at least one special character.\n",
    "6. Your password contains only lowercase letters! Please also use uppercase letters.\n",
    "7. Your password contains only uppercase letters! Please also use lowercase letters."
   ],
   "metadata": {
    "collapsed": false
   }
  },
  {
   "cell_type": "code",
   "execution_count": null,
   "outputs": [],
   "source": [
    "psw = input('Your password: ')\n",
    "\n",
    "def check(pswd):\n",
    "    if len(pswd) < 6:\n",
    "        print(\"Your password should contain at least 6 characters. \")\n",
    "        return False\n",
    "\n",
    "    if len(pswd) > 12:\n",
    "        print(\"Your password should contain no more than 12 characters. \")\n",
    "        return False\n",
    "\n",
    "    if pswd.isalpha():\n",
    "        print(\"Your password only contains alphabetic characters! Please also use digits and/or special characters. \")\n",
    "        return False\n",
    "\n",
    "    if pswd.isdigit():\n",
    "        print(\"Your password only contains digits! Please also use alphabetic and/or special characters. \")\n",
    "        return False\n",
    "\n",
    "    if pswd.isalnum():\n",
    "        print(\"Your password should contain at least one special character. \")\n",
    "        return False\n",
    "\n",
    "    if pswd.isupper():\n",
    "        print(\"Your password contains only lowercase letters! Please also use uppercase letters. \")\n",
    "        return False\n",
    "\n",
    "    if pswd.islower():\n",
    "        print(\"Your password contains only uppercase letters! Please also use lowercase letters. \")\n",
    "        return False\n",
    "\n",
    "    return True\n",
    "\n",
    "while not check(psw):\n",
    "    psw = input(\"Try again: \")"
   ],
   "metadata": {
    "collapsed": false,
    "pycharm": {
     "name": "#%%\n"
    }
   }
  },
  {
   "cell_type": "markdown",
   "source": [
    "## Exercise 5: Boolean Logic and Conditions"
   ],
   "metadata": {
    "collapsed": false
   }
  },
  {
   "cell_type": "markdown",
   "source": [
    "#### 5a. Speeding\n",
    "\n",
    "Write code to solve the following scenario:\n",
    "\n",
    "You are driving a little too fast, and a police officer stops you. Write code to compute and print the result, encoded as a string: 'no ticket', 'small ticket', 'big ticket'. If speed is 60 or less, the result is 'no ticket'. If speed is between 61 and 80 inclusive, the result is 'small ticket'. If speed is 81 or more, the result is 'big ticket'. Unless it is your birthday -- on that day, your speed can be 5 higher in all cases.\n"
   ],
   "metadata": {
    "collapsed": false
   }
  },
  {
   "cell_type": "code",
   "execution_count": null,
   "outputs": [],
   "source": [
    "ticket = ''\n",
    "speed = 0\n",
    "bday = False\n",
    "speed_ranges = [60, 80]\n",
    "\n",
    "if bday:\n",
    "    for count, _ in enumerate(speed_ranges):\n",
    "        speed_ranges[count] += 5\n",
    "\n",
    "if speed <= speed_ranges[0]:\n",
    "    print('no ticket')\n",
    "\n",
    "if speed_ranges[0] < speed <= speed_ranges[1]:\n",
    "    print('small ticket')\n",
    "\n",
    "if speed > speed_ranges[1]:\n",
    "    print('big ticket')"
   ],
   "metadata": {
    "collapsed": false,
    "pycharm": {
     "name": "#%%\n"
    }
   }
  },
  {
   "cell_type": "markdown",
   "source": [
    "#### 5b. Alarm clock\n",
    "\n",
    "Write code to set you alarm clock! Given the day of the week and information about whether you are currently on vacation or not, your code should print the time you want to be woken up following these constraints:\n",
    "\n",
    "Weekdays, the alarm should be \"7:00\" and on the weekend it should be \"10:00\". Unless we are on vacation -- then on weekdays it should be \"10:00\" and weekends it should be \"off\".\n",
    "\n",
    "\n",
    "Encode the weeks days as ints in the following way: 0=Sun, 1=Mon, 2=Tue, ...6=Sat. Encode the vacation infromation as boolean. Your code should assign the correct time to a variable as a string (following this format: \"7:00\") and print it.\n",
    "\n",
    "Note: Encoding the days as an integer helps you with defining conditions. You can check whether the week day is in a certain interval (instead of writing code for every single day)."
   ],
   "metadata": {
    "collapsed": false
   }
  },
  {
   "cell_type": "code",
   "execution_count": null,
   "outputs": [],
   "source": [
    "vacation = False\n",
    "week_days = [0, 1, 2, 3, 4, 5, 6]\n",
    "day = 4\n",
    "wake_up_time = 0\n",
    "\n",
    "if vacation:\n",
    "    if day == 0 or day == 6:\n",
    "        wake_up_time = 1\n",
    "\n",
    "    else:\n",
    "        wake_up_time = 10\n",
    "\n",
    "else:\n",
    "    if day == 0 or day == 6:\n",
    "        wake_up_time = 10\n",
    "\n",
    "    else:\n",
    "        wake_up_time = 7\n",
    "\n",
    "if wake_up_time != 1:\n",
    "    print(f'The alarm is set for {wake_up_time}:00')\n",
    "else:\n",
    "    print('The alarm is off')\n"
   ],
   "metadata": {
    "collapsed": false,
    "pycharm": {
     "name": "#%%\n"
    }
   }
  },
  {
   "cell_type": "markdown",
   "source": [
    "#### 5c. Parcel delivery\n",
    "The required postage for an  international parcel delivery service is calculated based on item weight and country of destination:\n",
    "\n",
    "\n",
    "| Tariff zone | 0 - 2 kg | 2 - 5 kg | 5 - 10 kg | 10 - 20 kg | 20 - 30 kg |\n",
    "|-------------|----------|----------|-----------|------------|------------|\n",
    "|EUR 1 | € 13.00 | € 19.50 | € 25.00 | € 34.00 | € 45.00 |\n",
    "|EUR 2 | € 18.50 | € 25.00 | € 31.00 | € 40.00 | € 55.00 |\n",
    "|World | € 24.30 | € 34.30 | € 58.30 | € 105.30 | - |\n",
    "\n",
    "Ask a user for the `weight` and `zone`. Use (nested) `if`-statements to find the required postage based on these variables. Assign the result to a variable `postage` and print the result using a full sentence:\n",
    "\n",
    "`The price of sending a [...] kg parcel to the [...] zone is € [...].`"
   ],
   "metadata": {
    "collapsed": false
   }
  },
  {
   "cell_type": "code",
   "execution_count": null,
   "outputs": [],
   "source": [
    "weight = int(input('How heavy is your package? '))\n",
    "zone = input('Which zone are you sending your package in? ')\n",
    "postage = 0\n",
    "\n",
    "zone = zone.replace(' ', '')\n",
    "zone = zone.lower()\n",
    "\n",
    "if 0 < weight <= 2:\n",
    "    if zone == 'eur1':\n",
    "        postage = 13\n",
    "    elif zone == 'eur2':\n",
    "        postage = 18.5\n",
    "    else:\n",
    "        postage = 24.3\n",
    "\n",
    "elif 2 < weight <= 5:\n",
    "    if zone == 'eur1':\n",
    "        postage = 19.5\n",
    "    elif zone == 'eur2':\n",
    "        postage = 25\n",
    "    else:\n",
    "        postage = 34.3\n",
    "\n",
    "elif 5 < weight <= 10:\n",
    "    if zone == 'eur1':\n",
    "        postage = 25\n",
    "    elif zone == 'eur2':\n",
    "        postage = 31\n",
    "    else:\n",
    "        postage = 58.3\n",
    "\n",
    "elif 10 < weight <= 20:\n",
    "    if zone == 'eur1':\n",
    "        postage = 34\n",
    "    elif zone == 'eur2':\n",
    "        postage = 40\n",
    "    else:\n",
    "        postage = 105.3\n",
    "\n",
    "else:\n",
    "    if zone == 'eur1':\n",
    "        postage = 45\n",
    "    elif zone == 'eur2':\n",
    "        postage = 55\n",
    "    else:\n",
    "        postage = 99999\n",
    "\n",
    "if postage != 99999:\n",
    "    print(f'The price of sending a {weight}kg parcel to the {zone} zone is € {postage}.')\n",
    "\n",
    "else:\n",
    "    print('This package is too heavy to be sent to the World zone.')"
   ],
   "metadata": {
    "collapsed": false,
    "pycharm": {
     "name": "#%%\n"
    }
   }
  }
 ],
 "metadata": {
  "kernelspec": {
   "display_name": "Python 3",
   "language": "python",
   "name": "python3"
  },
  "language_info": {
   "codemirror_mode": {
    "name": "ipython",
    "version": 2
   },
   "file_extension": ".py",
   "mimetype": "text/x-python",
   "name": "python",
   "nbconvert_exporter": "python",
   "pygments_lexer": "ipython2",
   "version": "2.7.6"
  }
 },
 "nbformat": 4,
 "nbformat_minor": 0
}